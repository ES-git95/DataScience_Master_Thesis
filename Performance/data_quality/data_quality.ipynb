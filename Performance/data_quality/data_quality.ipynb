{
 "cells": [
  {
   "attachments": {},
   "cell_type": "markdown",
   "metadata": {},
   "source": [
    "#### **Qualità dei risultati**"
   ]
  },
  {
   "cell_type": "code",
   "execution_count": 134,
   "metadata": {},
   "outputs": [],
   "source": [
    "import re\n",
    "import pandas as pd\n",
    "import copy\n",
    "import math"
   ]
  },
  {
   "attachments": {},
   "cell_type": "markdown",
   "metadata": {},
   "source": [
    "#### Mpileup"
   ]
  },
  {
   "cell_type": "code",
   "execution_count": null,
   "metadata": {},
   "outputs": [],
   "source": [
    "\n",
    "file1 = open(\"mpileup_V5.txt\",'r')\n",
    "file2 = open(\"mpileup_samtools.txt\",'r')\n",
    "\n",
    "file1_lines = file1.readlines()\n",
    "file2_lines = file2.readlines()\n",
    "\n",
    "with open('V5_adj.csv', 'w') as f1,open('samtools_adj.csv', 'w') as f2:\n",
    "\n",
    "    len_file1=math.ceil(len(file1_lines))\n",
    "    len_file2=math.ceil(len(file2_lines))\n",
    "    \n",
    "    for i in range(len_file1):\n",
    "        listed1=re.sub(' +', ',',file1_lines[i])\n",
    "        if listed1.count(',')==5:\n",
    "            f1.write(listed1)\n",
    "\n",
    "    for i in range(len_file2):\n",
    "        listed2=re.sub('\\t', ',',file2_lines[i])\n",
    "        if listed2.count(',')==5:\n",
    "            f2.write(listed2)\n",
    "\n",
    "file1.close()\n",
    "file2.close()\n"
   ]
  },
  {
   "cell_type": "code",
   "execution_count": null,
   "metadata": {},
   "outputs": [],
   "source": [
    "\n",
    "df_1=pd.read_csv('V5_adj.csv',header=None,names=['rname1','pos1','N1','num1','seq1','qual1'])\n",
    "df_2=pd.read_csv('samtools_adj.csv',header=None,names=['rname2','pos2','N2','num2','seq2','qual2'])\n",
    "df_result = pd.merge(df_1, df_2, how=\"outer\",left_on='pos1', right_on='pos2')\n",
    "df_result_excluded=df_result[(df_result.pos1.isnull())|(df_result.pos2.isnull()) ]\n",
    "df_result_final=df_result.drop(df_result_excluded.index)"
   ]
  },
  {
   "cell_type": "code",
   "execution_count": null,
   "metadata": {},
   "outputs": [],
   "source": [
    "df_result_final.to_csv('df_result_final.csv',index=False)"
   ]
  },
  {
   "cell_type": "code",
   "execution_count": 43,
   "metadata": {},
   "outputs": [],
   "source": [
    "df_result_final=pd.read_csv('df_result_final.csv')\n",
    "max(df_result_final.pos1)\n",
    "correct=0\n",
    "for index, row in df_result_final.iterrows():\n",
    "    compare1=''.join(sorted(row[['num1','seq1','qual1']].apply(lambda x: ''.join(sorted(str(x))))))\n",
    "    compare2=''.join(sorted(row[['num2','seq2','qual2']].apply(lambda x: ''.join(sorted(str(x))))))\n",
    "\n",
    "    if compare1==compare2:\n",
    "        correct+=1\n",
    "    else:\n",
    "        len1=len(compare1)\n",
    "        len2=len(compare2)\n",
    "        if len1 < len2:\n",
    "            len_diff=len2-len1\n",
    "            compare1=compare1 + ' '*len_diff\n",
    "        if len1>len2:\n",
    "            len_diff=len1-len2\n",
    "            compare2=compare2 + ' '*len_diff\n",
    "        else:\n",
    "            pass\n",
    "        \n",
    "        difference1 = ''.join(x for x, y in zip(list(compare1), list(compare2)) if x != y)\n",
    "        difference2 = ''.join(y for x, y in zip(list(compare1), list(compare2)) if x != y)\n",
    "\n",
    "        print('index:',index,'\\tdifference:',difference1,difference2,'\\tcompare:',compare1,compare2)\n",
    "\n",
    "print('\\noverall correctness: {}'.format(correct/len(df_result_final)))"
   ]
  },
  {
   "cell_type": "code",
   "execution_count": null,
   "metadata": {},
   "outputs": [],
   "source": [
    "#it has been created a program executing the above commands\n",
    "\n",
    "!python3 data_quality/mpileup/mpileup_quality.py"
   ]
  },
  {
   "attachments": {},
   "cell_type": "markdown",
   "metadata": {},
   "source": [
    "#### Consensus"
   ]
  },
  {
   "cell_type": "code",
   "execution_count": null,
   "metadata": {},
   "outputs": [],
   "source": [
    "#execute the python script\n",
    "#it results the scores for which the mean and variance will be performed\n",
    "\n",
    "!python3 data_quality/consensus/consensus_quality.py"
   ]
  },
  {
   "attachments": {},
   "cell_type": "markdown",
   "metadata": {},
   "source": [
    "#### coverage"
   ]
  },
  {
   "cell_type": "code",
   "execution_count": null,
   "metadata": {},
   "outputs": [],
   "source": [
    "#the following command will output the file coverage_output.txt\n",
    "\n",
    "!python3 data_quality/coverage/coverage_quality.py"
   ]
  },
  {
   "cell_type": "code",
   "execution_count": 143,
   "metadata": {},
   "outputs": [],
   "source": [
    "import pandas as pd\n",
    "coverage=pd.read_csv('coverage/coverage_output.txt',header=None)\n",
    "coverage=coverage.rename(columns={0:'startpos',1:'endpos',2:'numreads',3:'covbases',4:'coverage',5:'meandepth',6:'meanbaseq',7:'meanmapq'})"
   ]
  },
  {
   "cell_type": "code",
   "execution_count": 144,
   "metadata": {},
   "outputs": [
    {
     "data": {
      "text/html": [
       "<div>\n",
       "<style scoped>\n",
       "    .dataframe tbody tr th:only-of-type {\n",
       "        vertical-align: middle;\n",
       "    }\n",
       "\n",
       "    .dataframe tbody tr th {\n",
       "        vertical-align: top;\n",
       "    }\n",
       "\n",
       "    .dataframe thead th {\n",
       "        text-align: right;\n",
       "    }\n",
       "</style>\n",
       "<table border=\"1\" class=\"dataframe\">\n",
       "  <thead>\n",
       "    <tr style=\"text-align: right;\">\n",
       "      <th></th>\n",
       "      <th>startpos</th>\n",
       "      <th>endpos</th>\n",
       "      <th>numreads</th>\n",
       "      <th>covbases</th>\n",
       "      <th>coverage</th>\n",
       "      <th>meandepth</th>\n",
       "      <th>meanbaseq</th>\n",
       "      <th>meanmapq</th>\n",
       "    </tr>\n",
       "  </thead>\n",
       "  <tbody>\n",
       "    <tr>\n",
       "      <th>0</th>\n",
       "      <td>16573063</td>\n",
       "      <td>16593063</td>\n",
       "      <td>593</td>\n",
       "      <td>10678</td>\n",
       "      <td>53.387331</td>\n",
       "      <td>1.466477</td>\n",
       "      <td>39.421183</td>\n",
       "      <td>36.898820</td>\n",
       "    </tr>\n",
       "    <tr>\n",
       "      <th>1</th>\n",
       "      <td>16573063</td>\n",
       "      <td>16593063</td>\n",
       "      <td>593</td>\n",
       "      <td>10675</td>\n",
       "      <td>53.372300</td>\n",
       "      <td>1.480330</td>\n",
       "      <td>39.500000</td>\n",
       "      <td>36.900000</td>\n",
       "    </tr>\n",
       "    <tr>\n",
       "      <th>2</th>\n",
       "      <td>26486163</td>\n",
       "      <td>26506163</td>\n",
       "      <td>1067</td>\n",
       "      <td>14795</td>\n",
       "      <td>73.971301</td>\n",
       "      <td>2.638118</td>\n",
       "      <td>39.388357</td>\n",
       "      <td>36.966261</td>\n",
       "    </tr>\n",
       "    <tr>\n",
       "      <th>3</th>\n",
       "      <td>26486163</td>\n",
       "      <td>26506163</td>\n",
       "      <td>1067</td>\n",
       "      <td>14795</td>\n",
       "      <td>73.971300</td>\n",
       "      <td>2.663320</td>\n",
       "      <td>39.500000</td>\n",
       "      <td>37.000000</td>\n",
       "    </tr>\n",
       "    <tr>\n",
       "      <th>4</th>\n",
       "      <td>23289397</td>\n",
       "      <td>23309397</td>\n",
       "      <td>1070</td>\n",
       "      <td>14180</td>\n",
       "      <td>70.896455</td>\n",
       "      <td>2.631668</td>\n",
       "      <td>38.928466</td>\n",
       "      <td>36.897196</td>\n",
       "    </tr>\n",
       "    <tr>\n",
       "      <th>...</th>\n",
       "      <td>...</td>\n",
       "      <td>...</td>\n",
       "      <td>...</td>\n",
       "      <td>...</td>\n",
       "      <td>...</td>\n",
       "      <td>...</td>\n",
       "      <td>...</td>\n",
       "      <td>...</td>\n",
       "    </tr>\n",
       "    <tr>\n",
       "      <th>195</th>\n",
       "      <td>17957685</td>\n",
       "      <td>17977685</td>\n",
       "      <td>802</td>\n",
       "      <td>13528</td>\n",
       "      <td>67.636600</td>\n",
       "      <td>2.003100</td>\n",
       "      <td>39.400000</td>\n",
       "      <td>36.800000</td>\n",
       "    </tr>\n",
       "    <tr>\n",
       "      <th>196</th>\n",
       "      <td>14413784</td>\n",
       "      <td>14433784</td>\n",
       "      <td>935</td>\n",
       "      <td>14444</td>\n",
       "      <td>72.216389</td>\n",
       "      <td>2.308785</td>\n",
       "      <td>39.282952</td>\n",
       "      <td>36.974332</td>\n",
       "    </tr>\n",
       "    <tr>\n",
       "      <th>197</th>\n",
       "      <td>14413784</td>\n",
       "      <td>14433784</td>\n",
       "      <td>935</td>\n",
       "      <td>14444</td>\n",
       "      <td>72.216400</td>\n",
       "      <td>2.331580</td>\n",
       "      <td>39.400000</td>\n",
       "      <td>37.000000</td>\n",
       "    </tr>\n",
       "    <tr>\n",
       "      <th>198</th>\n",
       "      <td>214599</td>\n",
       "      <td>234599</td>\n",
       "      <td>291</td>\n",
       "      <td>7573</td>\n",
       "      <td>37.863107</td>\n",
       "      <td>0.727514</td>\n",
       "      <td>39.616194</td>\n",
       "      <td>0.752577</td>\n",
       "    </tr>\n",
       "    <tr>\n",
       "      <th>199</th>\n",
       "      <td>214599</td>\n",
       "      <td>234599</td>\n",
       "      <td>291</td>\n",
       "      <td>7573</td>\n",
       "      <td>37.863100</td>\n",
       "      <td>0.727414</td>\n",
       "      <td>39.700000</td>\n",
       "      <td>0.753000</td>\n",
       "    </tr>\n",
       "  </tbody>\n",
       "</table>\n",
       "<p>200 rows × 8 columns</p>\n",
       "</div>"
      ],
      "text/plain": [
       "     startpos    endpos  numreads  covbases   coverage  meandepth  meanbaseq  \\\n",
       "0    16573063  16593063       593     10678  53.387331   1.466477  39.421183   \n",
       "1    16573063  16593063       593     10675  53.372300   1.480330  39.500000   \n",
       "2    26486163  26506163      1067     14795  73.971301   2.638118  39.388357   \n",
       "3    26486163  26506163      1067     14795  73.971300   2.663320  39.500000   \n",
       "4    23289397  23309397      1070     14180  70.896455   2.631668  38.928466   \n",
       "..        ...       ...       ...       ...        ...        ...        ...   \n",
       "195  17957685  17977685       802     13528  67.636600   2.003100  39.400000   \n",
       "196  14413784  14433784       935     14444  72.216389   2.308785  39.282952   \n",
       "197  14413784  14433784       935     14444  72.216400   2.331580  39.400000   \n",
       "198    214599    234599       291      7573  37.863107   0.727514  39.616194   \n",
       "199    214599    234599       291      7573  37.863100   0.727414  39.700000   \n",
       "\n",
       "      meanmapq  \n",
       "0    36.898820  \n",
       "1    36.900000  \n",
       "2    36.966261  \n",
       "3    37.000000  \n",
       "4    36.897196  \n",
       "..         ...  \n",
       "195  36.800000  \n",
       "196  36.974332  \n",
       "197  37.000000  \n",
       "198   0.752577  \n",
       "199   0.753000  \n",
       "\n",
       "[200 rows x 8 columns]"
      ]
     },
     "execution_count": 144,
     "metadata": {},
     "output_type": "execute_result"
    }
   ],
   "source": [
    "coverage"
   ]
  },
  {
   "cell_type": "code",
   "execution_count": 145,
   "metadata": {},
   "outputs": [],
   "source": [
    "import numpy as np\n",
    "coverage_diff_covbases=coverage.groupby('startpos').agg({'coverage': 'diff' })\n",
    "coverage_diff_covbases=pd.DataFrame({'diff':list(coverage_diff_covbases[coverage_diff_covbases.coverage.notna()]['coverage']),'max':list(coverage.groupby('startpos').agg({'coverage': 'max' })['coverage'])})\n",
    "\n",
    "coverage_diff_coverage=coverage.groupby('startpos').agg({'meandepth': 'diff'})\n",
    "coverage_diff_coverage=pd.DataFrame({'diff':list(coverage_diff_coverage[coverage_diff_coverage.meandepth.notna()]['meandepth']),'max':list(coverage.groupby('startpos').agg({'meandepth': 'max' })['meandepth'])})\n",
    "\n",
    "coverage_diff_meandepth=coverage.groupby('startpos').agg({'meanbaseq': 'diff'})\n",
    "coverage_diff_meandepth=pd.DataFrame({'diff':list(coverage_diff_meandepth[coverage_diff_meandepth.meanbaseq.notna()]['meanbaseq']),'max':list(coverage.groupby('startpos').agg({'meanbaseq': 'max' })['meanbaseq'])})\n",
    "\n",
    "coverage_diff_meanbaseq=coverage.groupby('startpos').agg({'meanmapq': 'diff'})\n",
    "coverage_diff_meanbaseq=pd.DataFrame({'diff':list(coverage_diff_meanbaseq[coverage_diff_meanbaseq.meanmapq.notna()]['meanmapq']),'max':list(coverage.groupby('startpos').agg({'meanmapq': 'max' })['meanmapq'])})\n",
    "\n"
   ]
  },
  {
   "cell_type": "code",
   "execution_count": 127,
   "metadata": {},
   "outputs": [],
   "source": [
    "coverage_diff_covbases['perc']=coverage_diff_covbases['diff']/coverage_diff_covbases['max']\n",
    "coverage_diff_coverage['perc']=coverage_diff_coverage['diff']/coverage_diff_coverage['max']\n",
    "coverage_diff_meandepth['perc']=coverage_diff_meandepth['diff']/coverage_diff_meandepth['max']\n",
    "coverage_diff_meanbaseq['perc']=coverage_diff_meanbaseq['diff']/coverage_diff_meanbaseq['max']"
   ]
  },
  {
   "cell_type": "code",
   "execution_count": 130,
   "metadata": {},
   "outputs": [],
   "source": [
    "coverage_diff_covbases=coverage_diff_covbases.abs()\n",
    "coverage_diff_coverage=coverage_diff_coverage.abs()\n",
    "coverage_diff_meandepth=coverage_diff_meandepth.abs()\n",
    "coverage_diff_meanbaseq=coverage_diff_meanbaseq.abs()"
   ]
  },
  {
   "cell_type": "code",
   "execution_count": 132,
   "metadata": {},
   "outputs": [],
   "source": [
    "covbases_mean=coverage_diff_covbases['perc'].mean()\n",
    "covbases_var=coverage_diff_covbases['perc'].var()\n",
    "coverage_mean=coverage_diff_coverage['perc'].mean()\n",
    "coverage_var=coverage_diff_coverage['perc'].var()\n",
    "meandepth_mean=coverage_diff_meandepth['perc'].mean()\n",
    "meandepth_var=coverage_diff_meandepth['perc'].var()\n",
    "meanbaseq_mean=coverage_diff_meanbaseq['perc'].mean()\n",
    "meanbaseq_var=coverage_diff_meanbaseq['perc'].var()"
   ]
  },
  {
   "cell_type": "code",
   "execution_count": 146,
   "metadata": {},
   "outputs": [
    {
     "name": "stdout",
     "output_type": "stream",
     "text": [
      "6.177360917584786e-05\n",
      "1.3599198588317813e-08\n",
      "0.018989231126132173\n",
      "0.0011189356661424784\n",
      "0.0030556561866727718\n",
      "8.017964166284337e-07\n",
      "0.0011760936669560412\n",
      "6.046832103545184e-06\n"
     ]
    }
   ],
   "source": [
    "print(covbases_mean)\n",
    "print(covbases_var)\n",
    "print(coverage_mean)\n",
    "print(coverage_var)\n",
    "print(meandepth_mean)\n",
    "print(meandepth_var)\n",
    "print(meanbaseq_mean)\n",
    "print(meanbaseq_var)"
   ]
  },
  {
   "cell_type": "code",
   "execution_count": null,
   "metadata": {},
   "outputs": [],
   "source": []
  }
 ],
 "metadata": {
  "kernelspec": {
   "display_name": "Python 3",
   "language": "python",
   "name": "python3"
  },
  "language_info": {
   "codemirror_mode": {
    "name": "ipython",
    "version": 3
   },
   "file_extension": ".py",
   "mimetype": "text/x-python",
   "name": "python",
   "nbconvert_exporter": "python",
   "pygments_lexer": "ipython3",
   "version": "3.8.10"
  },
  "orig_nbformat": 4,
  "vscode": {
   "interpreter": {
    "hash": "916dbcbb3f70747c44a77c7bcd40155683ae19c65e1c03b4aa3499c5328201f1"
   }
  }
 },
 "nbformat": 4,
 "nbformat_minor": 2
}
