{
 "cells": [
  {
   "cell_type": "code",
   "execution_count": 57,
   "metadata": {},
   "outputs": [],
   "source": [
    "import seaborn as sns\n",
    "import pandas as pd\n",
    "\n",
    "performance=pd.read_csv('DBinsertion_performance.csv',header=None)\n",
    "\n"
   ]
  },
  {
   "cell_type": "code",
   "execution_count": 58,
   "metadata": {},
   "outputs": [],
   "source": [
    "performance.rename(columns={0: 'operation',\n",
    "                   1: 'file_name',\n",
    "                   2: 'start_datetime',\n",
    "                   3: 'end_datetime',\n",
    "                   4: 'duration',\n",
    "                   5: 'iteration'},inplace=True)"
   ]
  },
  {
   "cell_type": "code",
   "execution_count": 59,
   "metadata": {},
   "outputs": [],
   "source": [
    "import datetime\n",
    "\n",
    "diff=[]\n",
    "for idx in performance.index:\n",
    "    time_diff=datetime.datetime.strptime(performance.loc[idx,'end_datetime'][:-3],'%Y-%m-%d %H:%M:%S.%f')-datetime.datetime.strptime(performance.loc[idx,'start_datetime'][:-3],'%Y-%m-%d %H:%M:%S.%f')\n",
    "    diff.append(time_diff.total_seconds())\n",
    "\n",
    "performance['time_diff']=diff\n"
   ]
  },
  {
   "cell_type": "code",
   "execution_count": 62,
   "metadata": {},
   "outputs": [],
   "source": [
    "performance['duration']=performance['duration'].astype('float64')*60"
   ]
  },
  {
   "cell_type": "code",
   "execution_count": 89,
   "metadata": {},
   "outputs": [
    {
     "data": {
      "text/html": [
       "<div>\n",
       "<style scoped>\n",
       "    .dataframe tbody tr th:only-of-type {\n",
       "        vertical-align: middle;\n",
       "    }\n",
       "\n",
       "    .dataframe tbody tr th {\n",
       "        vertical-align: top;\n",
       "    }\n",
       "\n",
       "    .dataframe thead th {\n",
       "        text-align: right;\n",
       "    }\n",
       "</style>\n",
       "<table border=\"1\" class=\"dataframe\">\n",
       "  <thead>\n",
       "    <tr style=\"text-align: right;\">\n",
       "      <th></th>\n",
       "      <th>operation</th>\n",
       "      <th>file_name</th>\n",
       "      <th>start_datetime</th>\n",
       "      <th>end_datetime</th>\n",
       "      <th>duration</th>\n",
       "      <th>iteration</th>\n",
       "      <th>time_diff</th>\n",
       "    </tr>\n",
       "  </thead>\n",
       "  <tbody>\n",
       "    <tr>\n",
       "      <th>0</th>\n",
       "      <td>insertion</td>\n",
       "      <td>ENCFF469GFN.bam</td>\n",
       "      <td>2022-10-02 18:41:26.370110352</td>\n",
       "      <td>2022-10-02 18:43:20.635250352</td>\n",
       "      <td>114.265142</td>\n",
       "      <td>1</td>\n",
       "      <td>114.265140</td>\n",
       "    </tr>\n",
       "    <tr>\n",
       "      <th>1</th>\n",
       "      <td>insertion</td>\n",
       "      <td>ENCFF469GFN.bam</td>\n",
       "      <td>2022-10-02 18:42:30.805552330</td>\n",
       "      <td>2022-10-02 18:44:29.124742363</td>\n",
       "      <td>118.085133</td>\n",
       "      <td>2</td>\n",
       "      <td>118.319190</td>\n",
       "    </tr>\n",
       "    <tr>\n",
       "      <th>2</th>\n",
       "      <td>insertion</td>\n",
       "      <td>ENCFF469GFN.bam</td>\n",
       "      <td>2022-10-02 18:44:29.560258381</td>\n",
       "      <td>2022-10-02 18:46:27.419336955</td>\n",
       "      <td>117.510649</td>\n",
       "      <td>3</td>\n",
       "      <td>117.859078</td>\n",
       "    </tr>\n",
       "    <tr>\n",
       "      <th>3</th>\n",
       "      <td>insertion</td>\n",
       "      <td>ENCFF469GFN.bam</td>\n",
       "      <td>2022-10-02 18:46:27.872461459</td>\n",
       "      <td>2022-10-02 18:48:47.870063809</td>\n",
       "      <td>139.684420</td>\n",
       "      <td>4</td>\n",
       "      <td>139.997602</td>\n",
       "    </tr>\n",
       "    <tr>\n",
       "      <th>4</th>\n",
       "      <td>insertion</td>\n",
       "      <td>ENCFF469GFN.bam</td>\n",
       "      <td>2022-10-02 18:48:48.423441951</td>\n",
       "      <td>2022-10-02 18:51:14.131257548</td>\n",
       "      <td>145.383935</td>\n",
       "      <td>5</td>\n",
       "      <td>145.707816</td>\n",
       "    </tr>\n",
       "  </tbody>\n",
       "</table>\n",
       "</div>"
      ],
      "text/plain": [
       "   operation        file_name                 start_datetime  \\\n",
       "0  insertion  ENCFF469GFN.bam  2022-10-02 18:41:26.370110352   \n",
       "1  insertion  ENCFF469GFN.bam  2022-10-02 18:42:30.805552330   \n",
       "2  insertion  ENCFF469GFN.bam  2022-10-02 18:44:29.560258381   \n",
       "3  insertion  ENCFF469GFN.bam  2022-10-02 18:46:27.872461459   \n",
       "4  insertion  ENCFF469GFN.bam  2022-10-02 18:48:48.423441951   \n",
       "\n",
       "                    end_datetime    duration  iteration   time_diff  \n",
       "0  2022-10-02 18:43:20.635250352  114.265142          1  114.265140  \n",
       "1  2022-10-02 18:44:29.124742363  118.085133          2  118.319190  \n",
       "2  2022-10-02 18:46:27.419336955  117.510649          3  117.859078  \n",
       "3  2022-10-02 18:48:47.870063809  139.684420          4  139.997602  \n",
       "4  2022-10-02 18:51:14.131257548  145.383935          5  145.707816  "
      ]
     },
     "execution_count": 89,
     "metadata": {},
     "output_type": "execute_result"
    }
   ],
   "source": [
    "performance.head()"
   ]
  },
  {
   "cell_type": "code",
   "execution_count": 90,
   "metadata": {},
   "outputs": [],
   "source": [
    "performance_samtools=pd.read_csv('sortindex_performance.csv',header=None)"
   ]
  },
  {
   "cell_type": "code",
   "execution_count": 91,
   "metadata": {},
   "outputs": [],
   "source": [
    "performance_samtools.rename(columns={0: 'operation',\n",
    "                   1: 'file_name',\n",
    "                   2: 'start_datetime',\n",
    "                   3: 'end_datetime',\n",
    "                   4: 'iteration'},inplace=True)"
   ]
  },
  {
   "cell_type": "code",
   "execution_count": 92,
   "metadata": {},
   "outputs": [],
   "source": [
    "diff=[]\n",
    "for idx in performance_samtools.index:\n",
    "    time_diff=datetime.datetime.strptime(performance_samtools.loc[idx,'end_datetime'][:-3],'%Y-%m-%d %H:%M:%S.%f')-datetime.datetime.strptime(performance_samtools.loc[idx,'start_datetime'][:-3],'%Y-%m-%d %H:%M:%S.%f')\n",
    "    diff.append(time_diff.total_seconds())\n",
    "\n",
    "performance_samtools['time_diff']=diff"
   ]
  },
  {
   "cell_type": "code",
   "execution_count": 94,
   "metadata": {},
   "outputs": [
    {
     "data": {
      "text/html": [
       "<div>\n",
       "<style scoped>\n",
       "    .dataframe tbody tr th:only-of-type {\n",
       "        vertical-align: middle;\n",
       "    }\n",
       "\n",
       "    .dataframe tbody tr th {\n",
       "        vertical-align: top;\n",
       "    }\n",
       "\n",
       "    .dataframe thead th {\n",
       "        text-align: right;\n",
       "    }\n",
       "</style>\n",
       "<table border=\"1\" class=\"dataframe\">\n",
       "  <thead>\n",
       "    <tr style=\"text-align: right;\">\n",
       "      <th></th>\n",
       "      <th>operation</th>\n",
       "      <th>file_name</th>\n",
       "      <th>start_datetime</th>\n",
       "      <th>end_datetime</th>\n",
       "      <th>iteration</th>\n",
       "      <th>time_diff</th>\n",
       "    </tr>\n",
       "  </thead>\n",
       "  <tbody>\n",
       "    <tr>\n",
       "      <th>0</th>\n",
       "      <td>indexing_sorting</td>\n",
       "      <td>ENCFF469GFN.bam</td>\n",
       "      <td>2022-10-02 21:20:24.289153795</td>\n",
       "      <td>2022-10-02 21:22:03.625280500</td>\n",
       "      <td>1</td>\n",
       "      <td>99.336127</td>\n",
       "    </tr>\n",
       "    <tr>\n",
       "      <th>1</th>\n",
       "      <td>indexing_sorting</td>\n",
       "      <td>ENCFF469GFN.bam</td>\n",
       "      <td>2022-10-02 21:22:03.718336334</td>\n",
       "      <td>2022-10-02 21:23:48.540867803</td>\n",
       "      <td>2</td>\n",
       "      <td>104.822531</td>\n",
       "    </tr>\n",
       "    <tr>\n",
       "      <th>2</th>\n",
       "      <td>indexing_sorting</td>\n",
       "      <td>ENCFF469GFN.bam</td>\n",
       "      <td>2022-10-02 21:23:48.624867976</td>\n",
       "      <td>2022-10-02 21:25:26.425781043</td>\n",
       "      <td>3</td>\n",
       "      <td>97.800914</td>\n",
       "    </tr>\n",
       "    <tr>\n",
       "      <th>3</th>\n",
       "      <td>indexing_sorting</td>\n",
       "      <td>ENCFF469GFN.bam</td>\n",
       "      <td>2022-10-02 21:25:26.525680905</td>\n",
       "      <td>2022-10-02 21:27:04.275303254</td>\n",
       "      <td>4</td>\n",
       "      <td>97.749623</td>\n",
       "    </tr>\n",
       "    <tr>\n",
       "      <th>4</th>\n",
       "      <td>indexing_sorting</td>\n",
       "      <td>ENCFF469GFN.bam</td>\n",
       "      <td>2022-10-02 21:27:04.367831664</td>\n",
       "      <td>2022-10-02 21:28:42.310862688</td>\n",
       "      <td>5</td>\n",
       "      <td>97.943031</td>\n",
       "    </tr>\n",
       "  </tbody>\n",
       "</table>\n",
       "</div>"
      ],
      "text/plain": [
       "          operation        file_name                 start_datetime  \\\n",
       "0  indexing_sorting  ENCFF469GFN.bam  2022-10-02 21:20:24.289153795   \n",
       "1  indexing_sorting  ENCFF469GFN.bam  2022-10-02 21:22:03.718336334   \n",
       "2  indexing_sorting  ENCFF469GFN.bam  2022-10-02 21:23:48.624867976   \n",
       "3  indexing_sorting  ENCFF469GFN.bam  2022-10-02 21:25:26.525680905   \n",
       "4  indexing_sorting  ENCFF469GFN.bam  2022-10-02 21:27:04.367831664   \n",
       "\n",
       "                    end_datetime  iteration   time_diff  \n",
       "0  2022-10-02 21:22:03.625280500          1   99.336127  \n",
       "1  2022-10-02 21:23:48.540867803          2  104.822531  \n",
       "2  2022-10-02 21:25:26.425781043          3   97.800914  \n",
       "3  2022-10-02 21:27:04.275303254          4   97.749623  \n",
       "4  2022-10-02 21:28:42.310862688          5   97.943031  "
      ]
     },
     "execution_count": 94,
     "metadata": {},
     "output_type": "execute_result"
    }
   ],
   "source": [
    "performance_samtools.head()"
   ]
  },
  {
   "cell_type": "code",
   "execution_count": 105,
   "metadata": {},
   "outputs": [],
   "source": [
    "performace_db=pd.DataFrame({'insertion SQL db':performance['duration'],'Samtools: sort + index':performance_samtools['time_diff']})"
   ]
  },
  {
   "cell_type": "code",
   "execution_count": 109,
   "metadata": {},
   "outputs": [
    {
     "data": {
      "text/plain": [
       "(70.0, 176.07991496298294)"
      ]
     },
     "execution_count": 109,
     "metadata": {},
     "output_type": "execute_result"
    },
    {
     "data": {
      "image/png": "[encoded data removed]",
      "text/plain": [
       "<Figure size 720x576 with 1 Axes>"
      ]
     },
     "metadata": {
      "needs_background": "light"
     },
     "output_type": "display_data"
    }
   ],
   "source": [
    "import matplotlib.pyplot as plt\n",
    "plt.figure(figsize=(10, 8))\n",
    "boxplot=sns.boxplot(data=performace_db,showmeans=True,\n",
    "            meanprops={\"marker\":\"o\",\n",
    "                       \"markerfacecolor\":\"white\", \n",
    "                       \"markeredgecolor\":\"black\",\n",
    "                      \"markersize\":\"10\"})\n",
    "plt.ylabel(\"duration (seconds)\",size=14)\n",
    "plt.ylim(bottom=70)"
   ]
  },
  {
   "cell_type": "code",
   "execution_count": 113,
   "metadata": {},
   "outputs": [
    {
     "name": "stdout",
     "output_type": "stream",
     "text": [
      "99.83112099999998\n",
      "3.704630506848944\n"
     ]
    }
   ],
   "source": [
    "import numpy as np\n",
    "print(np.mean(performance_samtools['time_diff']))\n",
    "print(np.std(performance_samtools['time_diff']))"
   ]
  },
  {
   "cell_type": "code",
   "execution_count": null,
   "metadata": {},
   "outputs": [],
   "source": []
  }
 ],
 "metadata": {
  "kernelspec": {
   "display_name": "Python 3.8.10 64-bit",
   "language": "python",
   "name": "python3"
  },
  "language_info": {
   "codemirror_mode": {
    "name": "ipython",
    "version": 3
   },
   "file_extension": ".py",
   "mimetype": "text/x-python",
   "name": "python",
   "nbconvert_exporter": "python",
   "pygments_lexer": "ipython3",
   "version": "3.8.10"
  },
  "orig_nbformat": 4,
  "vscode": {
   "interpreter": {
    "hash": "916dbcbb3f70747c44a77c7bcd40155683ae19c65e1c03b4aa3499c5328201f1"
   }
  }
 },
 "nbformat": 4,
 "nbformat_minor": 2
}
